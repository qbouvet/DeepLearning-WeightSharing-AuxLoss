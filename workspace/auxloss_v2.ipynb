{
 "cells": [
  {
   "cell_type": "code",
   "execution_count": 2,
   "metadata": {},
   "outputs": [],
   "source": [
    "import torch\n",
    "import utils\n",
    "import dlc_practical_prologue as prologue\n",
    "\n",
    "from torch.autograd import Variable\n",
    "from torch import nn\n",
    "from torch.nn import functional as F\n",
    "\n",
    "import pandas as pd\n",
    "import seaborn as sns\n",
    "import matplotlib.pyplot as plt\n",
    "\n",
    "from IPython.display import display, clear_output\n",
    "from itertools import product\n",
    "\n",
    "#from utils import train_model\n",
    "#from utils_mt import accuracy_mt, train_model_mt\n",
    "from TrainingFramework import TrainingFramework, plot_hist, end_of_hist_result"
   ]
  },
  {
   "cell_type": "markdown",
   "metadata": {},
   "source": [
    "## Test changes"
   ]
  },
  {
   "cell_type": "code",
   "execution_count": 5,
   "metadata": {},
   "outputs": [],
   "source": [
    "def count_parameters(model):\n",
    "    nb_params = 0\n",
    "    for parameter in model.parameters():\n",
    "        nb_params = nb_params + parameter.numel()\n",
    "    return nb_params"
   ]
  },
  {
   "cell_type": "code",
   "execution_count": 3,
   "metadata": {},
   "outputs": [
    {
     "name": "stdout",
     "output_type": "stream",
     "text": [
      "trn : torch.Size([1000, 2, 14, 14]) \n",
      "trnY : torch.Size([1000]) \n",
      "trnAuxY : torch.Size([2, 1000])\n"
     ]
    }
   ],
   "source": [
    "tf = TrainingFramework(validationProp=0.2,\n",
    "                       batchsize=100,\n",
    "                       mainLoss=nn.CrossEntropyLoss(),\n",
    "                       auxLoss=nn.CrossEntropyLoss()\n",
    ")"
   ]
  },
  {
   "cell_type": "code",
   "execution_count": 14,
   "metadata": {},
   "outputs": [
    {
     "name": "stdout",
     "output_type": "stream",
     "text": [
      "145464\n"
     ]
    }
   ],
   "source": [
    "class WeightShareAndAux(nn.Module):\n",
    "    def __init__(self, nb_hidden=100):\n",
    "        \n",
    "        super(WeightShareAndAux, self).__init__()\n",
    "        \n",
    "        self.shared = nn.Sequential(\n",
    "            nn.Conv2d(1, 32, kernel_size=1),\n",
    "            nn.ReLU(True),\n",
    "            nn.Conv2d(32, 64, kernel_size=3),\n",
    "            nn.ReLU(True),\n",
    "            nn.MaxPool2d(kernel_size=2, stride=2),\n",
    "            nn.Conv2d(64, 128, kernel_size=3),\n",
    "            nn.ReLU(True),\n",
    "            nn.MaxPool2d(kernel_size=2, stride=2)   \n",
    "        )\n",
    "        \n",
    "        self.classifier1 = nn.Sequential(\n",
    "            nn.Linear(512, nb_hidden),\n",
    "            nn.ReLU(True),\n",
    "            nn.Linear(nb_hidden, 10)\n",
    "        )\n",
    "        \n",
    "        self.classifier2 = nn.Sequential(\n",
    "            nn.Linear(20, 32),\n",
    "            nn.ReLU(True),\n",
    "            nn.Linear(32, 2)\n",
    "        )\n",
    "        \n",
    "\n",
    "    def forward(self, x):        \n",
    "        x1 = x[:,0:1,:,:]\n",
    "        x2 = x[:,1:2,:,:]\n",
    "                \n",
    "        # Pass x1 and x2 through the weight-shared part\n",
    "        x1_aux = self.classifier1(self.shared(x1).view(-1, 512))\n",
    "        x2_aux = self.classifier1(self.shared(x2).view(-1, 512))\n",
    "        \n",
    "        # Group both result and pass them through the unified part\n",
    "        x_main = torch.cat ([x1_aux, x2_aux], dim=1)\n",
    "        x_main = self.classifier2(x_main)\n",
    "        \n",
    "        return x_main, (x1_aux, x2_aux)\n",
    "    \n",
    "WA = WeightShareAndAux()\n",
    "print(count_parameters(WA))"
   ]
  },
  {
   "cell_type": "code",
   "execution_count": 18,
   "metadata": {},
   "outputs": [
    {
     "name": "stdout",
     "output_type": "stream",
     "text": [
      "290190\n"
     ]
    }
   ],
   "source": [
    "class NothingAtAll(nn.Module):\n",
    "    def __init__(self, nb_hidden=100):\n",
    "        \n",
    "        super(NothingAtAll, self).__init__()\n",
    "        \n",
    "        self.not_shared1 = nn.Sequential(\n",
    "            nn.Conv2d(1, 32, kernel_size=1),\n",
    "            nn.ReLU(True),\n",
    "            nn.Conv2d(32, 64, kernel_size=3),\n",
    "            nn.ReLU(True),\n",
    "            nn.MaxPool2d(kernel_size=2, stride=2),\n",
    "            nn.Conv2d(64, 128, kernel_size=3),\n",
    "            nn.ReLU(True),\n",
    "            nn.MaxPool2d(kernel_size=2, stride=2)   \n",
    "        )\n",
    "        \n",
    "        self.not_shared2 = nn.Sequential(\n",
    "            nn.Conv2d(1, 32, kernel_size=1),\n",
    "            nn.ReLU(True),\n",
    "            nn.Conv2d(32, 64, kernel_size=3),\n",
    "            nn.ReLU(True),\n",
    "            nn.MaxPool2d(kernel_size=2, stride=2),\n",
    "            nn.Conv2d(64, 128, kernel_size=3),\n",
    "            nn.ReLU(True),\n",
    "            nn.MaxPool2d(kernel_size=2, stride=2)   \n",
    "        )\n",
    "        \n",
    "        self.classifier1_1 = nn.Sequential(\n",
    "            nn.Linear(512, nb_hidden),\n",
    "            nn.ReLU(True),\n",
    "            nn.Linear(nb_hidden, 10)\n",
    "        )\n",
    "        \n",
    "        self.classifier1_2 = nn.Sequential(\n",
    "            nn.Linear(512, nb_hidden),\n",
    "            nn.ReLU(True),\n",
    "            nn.Linear(nb_hidden, 10)\n",
    "        )\n",
    "        \n",
    "        self.classifier2 = nn.Sequential(\n",
    "            nn.Linear(20, 32),\n",
    "            nn.ReLU(True),\n",
    "            nn.Linear(32, 2)\n",
    "        )\n",
    "        \n",
    "\n",
    "    def forward(self, x):        \n",
    "        x1 = x[:,0:1,:,:]\n",
    "        x2 = x[:,1:2,:,:]\n",
    "                \n",
    "        # Pass x1 and x2 through the weight-shared part\n",
    "        x1_aux = self.classifier1_1(self.not_shared1(x1).view(-1, 512))\n",
    "        x2_aux = self.classifier1_2(self.not_shared2(x2).view(-1, 512))\n",
    "        \n",
    "        # Group both result and pass them through the unified part\n",
    "        x_main = torch.cat ([x1_aux, x2_aux], dim=1)\n",
    "        x_main = self.classifier2(x_main)\n",
    "        \n",
    "        return x_main\n",
    "    \n",
    "N = NothingAtAll()\n",
    "print(count_parameters(N))"
   ]
  },
  {
   "cell_type": "code",
   "execution_count": 19,
   "metadata": {},
   "outputs": [
    {
     "name": "stdout",
     "output_type": "stream",
     "text": [
      "trn : torch.Size([1000, 2, 14, 14]) \n",
      "trnY : torch.Size([1000]) \n",
      "trnAuxY : torch.Size([2, 1000])\n"
     ]
    }
   ],
   "source": [
    "tf2 = TrainingFramework(class NothingAtAll(nn.Module):\n",
    "    def __init__(self, nb_hidden=100):\n",
    "        \n",
    "        super(NothingAtAll, self).__init__()\n",
    "        \n",
    "        self.not_shared1 = nn.Sequential(\n",
    "            nn.Conv2d(1, 32, kernel_size=1),\n",
    "            nn.ReLU(True),\n",
    "            nn.Conv2d(32, 64, kernel_size=3),\n",
    "            nn.ReLU(True),\n",
    "            nn.MaxPool2d(kernel_size=2, stride=2),\n",
    "            nn.Conv2d(64, 128, kernel_size=3),\n",
    "            nn.ReLU(True),\n",
    "            nn.MaxPool2d(kernel_size=2, stride=2)   \n",
    "        )\n",
    "        \n",
    "        self.not_shared2 = nn.Sequential(\n",
    "            nn.Conv2d(1, 32, kernel_size=1),\n",
    "            nn.ReLU(True),\n",
    "            nn.Conv2d(32, 64, kernel_size=3),\n",
    "            nn.ReLU(True),\n",
    "            nn.MaxPool2d(kernel_size=2, stride=2),\n",
    "            nn.Conv2d(64, 128, kernel_size=3),\n",
    "            nn.ReLU(True),\n",
    "            nn.MaxPool2d(kernel_size=2, stride=2)   \n",
    "        )\n",
    "        \n",
    "        self.classifier1_1 = nn.Sequential(\n",
    "            nn.Linear(512, nb_hidden),\n",
    "            nn.ReLU(True),\n",
    "            nn.Linear(nb_hidden, 10)\n",
    "        )\n",
    "        \n",
    "        self.classifier1_2 = nn.Sequential(\n",
    "            nn.Linear(512, nb_hidden),\n",
    "            nn.ReLU(True),\n",
    "            nn.Linear(nb_hidden, 10)\n",
    "        )\n",
    "        \n",
    "        self.classifier2 = nn.Sequential(\n",
    "            nn.Linear(20, 32),\n",
    "            nn.ReLU(True),\n",
    "            nn.Linear(32, 2)\n",
    "        )\n",
    "        \n",
    "\n",
    "    def forward(self, x):        \n",
    "        x1 = x[:,0:1,:,:]\n",
    "        x2 = x[:,1:2,:,:]\n",
    "                \n",
    "        # Pass x1 and x2 through the weight-shared part\n",
    "        x1_aux = self.classifier1_1(self.not_shared1(x1).view(-1, 512))\n",
    "        x2_aux = self.classifier1_2(self.not_shared2(x2).view(-1, 512))\n",
    "        \n",
    "        # Group both result and pass them through the unified part\n",
    "        x_main = torch.cat ([x1_aux, x2_aux], dim=1)\n",
    "        x_main = self.classifier2(x_main)\n",
    "        \n",
    "        return x_main\n",
    "    \n",
    "N = NothingAtAll()\n",
    "print(count_parameters(N))validationProp=0.2,\n",
    "                       batchsize=100,\n",
    "                       mainLoss=nn.CrossEntropyLoss(),\n",
    "                       auxLoss=None\n",
    ")"
   ]
  },
  {
   "cell_type": "code",
   "execution_count": 20,
   "metadata": {},
   "outputs": [
    {
     "data": {
      "text/plain": [
       "'Epoch 5/5'"
      ]
     },
     "metadata": {},
     "output_type": "display_data"
    },
    {
     "name": "stderr",
     "output_type": "stream",
     "text": [
      "/home/toby/Workspace/deep-learning-miniprojects/proj1/TrainingFramework.py:217: FutureWarning: Sorting because non-concatenation axis is not aligned. A future version\n",
      "of pandas will change to not sort by default.\n",
      "\n",
      "To accept the future behavior, pass 'sort=False'.\n",
      "\n",
      "To retain the current behavior and silence the warning, pass 'sort=True'.\n",
      "\n",
      "  df_hist = pd.concat([df_hist, df_fold])\n"
     ]
    }
   ],
   "source": [
    "hist, times = tf2.validateModel(NothingAtAll, epochs=5, nb_iter=1)"
   ]
  },
  {
   "cell_type": "code",
   "execution_count": 23,
   "metadata": {},
   "outputs": [
    {
     "name": "stderr",
     "output_type": "stream",
     "text": [
      "/home/toby/Installed/anaconda3/lib/python3.7/site-packages/pandas/core/series.py:851: FutureWarning: \n",
      "Passing list-likes to .loc or [] with any missing label will raise\n",
      "KeyError in the future, you can use .reindex() as an alternative.\n",
      "\n",
      "See the documentation here:\n",
      "https://pandas.pydata.org/pandas-docs/stable/indexing.html#deprecate-loc-reindex-listlike\n",
      "  return self.loc[key]\n"
     ]
    },
    {
     "data": {
      "text/html": [
       "<div>\n",
       "<style scoped>\n",
       "    .dataframe tbody tr th:only-of-type {\n",
       "        vertical-align: middle;\n",
       "    }\n",
       "\n",
       "    .dataframe tbody tr th {\n",
       "        vertical-align: top;\n",
       "    }\n",
       "\n",
       "    .dataframe thead th {\n",
       "        text-align: right;\n",
       "    }\n",
       "</style>\n",
       "<table border=\"1\" class=\"dataframe\">\n",
       "  <thead>\n",
       "    <tr style=\"text-align: right;\">\n",
       "      <th></th>\n",
       "      <th>train_loss</th>\n",
       "      <th>train_acc</th>\n",
       "      <th>val_loss</th>\n",
       "      <th>val_acc</th>\n",
       "      <th>aux_train_loss</th>\n",
       "      <th>aux_train_acc</th>\n",
       "      <th>aux_val_loss</th>\n",
       "      <th>aux_val_acc</th>\n",
       "      <th>epoch</th>\n",
       "    </tr>\n",
       "  </thead>\n",
       "  <tbody>\n",
       "    <tr>\n",
       "      <th>last</th>\n",
       "      <td>0.309336</td>\n",
       "      <td>0.862</td>\n",
       "      <td>0.367378</td>\n",
       "      <td>0.82</td>\n",
       "      <td>NaN</td>\n",
       "      <td>NaN</td>\n",
       "      <td>NaN</td>\n",
       "      <td>NaN</td>\n",
       "      <td>4</td>\n",
       "    </tr>\n",
       "    <tr>\n",
       "      <th>best</th>\n",
       "      <td>0.309336</td>\n",
       "      <td>0.862</td>\n",
       "      <td>0.367378</td>\n",
       "      <td>0.82</td>\n",
       "      <td>NaN</td>\n",
       "      <td>NaN</td>\n",
       "      <td>NaN</td>\n",
       "      <td>NaN</td>\n",
       "      <td>4</td>\n",
       "    </tr>\n",
       "  </tbody>\n",
       "</table>\n",
       "</div>"
      ],
      "text/plain": [
       "      train_loss  train_acc  val_loss  val_acc  aux_train_loss  aux_train_acc  \\\n",
       "last    0.309336      0.862  0.367378     0.82             NaN            NaN   \n",
       "best    0.309336      0.862  0.367378     0.82             NaN            NaN   \n",
       "\n",
       "      aux_val_loss  aux_val_acc  epoch  \n",
       "last           NaN          NaN      4  \n",
       "best           NaN          NaN      4  "
      ]
     },
     "metadata": {},
     "output_type": "display_data"
    },
    {
     "data": {
      "image/png": "[encoded data removed]",
      "text/plain": [
       "<Figure size 1080x432 with 2 Axes>"
      ]
     },
     "metadata": {
      "needs_background": "light"
     },
     "output_type": "display_data"
    }
   ],
   "source": [
    "plot_hist(hist, auxloss=False)"
   ]
  }
 ],
 "metadata": {
  "kernelspec": {
   "display_name": "Python 3",
   "language": "python",
   "name": "python3"
  },
  "language_info": {
   "codemirror_mode": {
    "name": "ipython",
    "version": 3
   },
   "file_extension": ".py",
   "mimetype": "text/x-python",
   "name": "python",
   "nbconvert_exporter": "python",
   "pygments_lexer": "ipython3",
   "version": "3.7.2"
  }
 },
 "nbformat": 4,
 "nbformat_minor": 2
}
