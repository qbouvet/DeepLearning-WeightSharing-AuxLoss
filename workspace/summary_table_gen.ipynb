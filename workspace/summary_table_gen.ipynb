{
 "cells": [
  {
   "cell_type": "code",
   "execution_count": 1,
   "metadata": {},
   "outputs": [],
   "source": [
    "import pandas as pd"
   ]
  },
  {
   "cell_type": "code",
   "execution_count": 2,
   "metadata": {},
   "outputs": [],
   "source": [
    "def extract_accuracy_value(df, best=True):\n",
    "    df_avg = df.groupby('epoch').mean()\n",
    "    df_std = df.groupby('epoch').std()\n",
    "    \n",
    "    if best:\n",
    "        val_acc = df_avg.loc[df_avg.val_acc.idxmax()]['val_acc']\n",
    "        val_acc_std = df_std.loc[df_avg.val_acc.idxmax()]['val_acc']\n",
    "    else:\n",
    "        val_acc = df_avg.loc[df_avg.index.max()]['val_acc']\n",
    "        val_acc_std = df_std.loc[df_avg.index.max()]['val_acc']\n",
    "                             \n",
    "    return '{0:.4f} +- {1:.4f}'.format(val_acc, val_acc_std)"
   ]
  },
  {
   "cell_type": "markdown",
   "metadata": {},
   "source": [
    "## Shallow FC"
   ]
  },
  {
   "cell_type": "code",
   "execution_count": 80,
   "metadata": {},
   "outputs": [],
   "source": [
    "hist_shallowFC_noWS_noAux_df = pd.read_csv('./histories/shallowFC_noWS_noAux.csv', encoding='utf-8')\n",
    "hist_shallowFC_yesWS_noAux_df = pd.read_csv('./histories/shallowFC_yesWS_noAux.csv', encoding='utf-8')\n",
    "hist_shallowFC_noWS_yesAux_df = pd.read_csv('./histories/shallowFC_noWS_yesAux.csv', encoding='utf-8')\n",
    "hist_shallowFC_yesWS_yesAux_df = pd.read_csv('./histories/shallowFC_yesWS_yesAux.csv', encoding='utf-8')"
   ]
  },
  {
   "cell_type": "code",
   "execution_count": 81,
   "metadata": {},
   "outputs": [
    {
     "name": "stdout",
     "output_type": "stream",
     "text": [
      "No WS \t No Aux \t ===> 0.8258 +- 0.0149\n",
      "Yes WS \t No Aux \t ===> 0.8313 +- 0.0146\n",
      "No WS \t Yes Aux \t ===> 0.8293 +- 0.0156\n",
      "Yes WS \t Yes Aux \t ===> 0.8393 +- 0.0094\n"
     ]
    }
   ],
   "source": [
    "print(\"No WS \\t No Aux \\t ===> {}\".format( extract_accuracy_value(hist_shallowFC_noWS_noAux_df) ))\n",
    "print(\"Yes WS \\t No Aux \\t ===> {}\".format( extract_accuracy_value(hist_shallowFC_yesWS_noAux_df) ))\n",
    "print(\"No WS \\t Yes Aux \\t ===> {}\".format( extract_accuracy_value(hist_shallowFC_noWS_yesAux_df) ))\n",
    "print(\"Yes WS \\t Yes Aux \\t ===> {}\".format( extract_accuracy_value(hist_shallowFC_yesWS_yesAux_df) ))"
   ]
  },
  {
   "cell_type": "markdown",
   "metadata": {},
   "source": [
    "## Deep FC"
   ]
  },
  {
   "cell_type": "code",
   "execution_count": 7,
   "metadata": {},
   "outputs": [],
   "source": [
    "hist_deepFC_noWS_noAux_df = pd.read_csv('./histories/DeepFC_noWS_noAux.csv', encoding='utf-8')\n",
    "hist_deepFC_yesWS_noAux_df = pd.read_csv('./histories/DeepFC_yesWS_noAux.csv', encoding='utf-8')\n",
    "hist_deepFC_noWS_yesAux_df = pd.read_csv('./histories/DeepFC_noWS_yesAux.csv', encoding='utf-8')\n",
    "hist_deepFC_yesWS_yesAux_df = pd.read_csv('./histories/DeepFC_yesWS_yesAux.csv', encoding='utf-8') ## !!!"
   ]
  },
  {
   "cell_type": "code",
   "execution_count": 8,
   "metadata": {},
   "outputs": [
    {
     "name": "stdout",
     "output_type": "stream",
     "text": [
      "No WS \t No Aux \t ===> 0.8176 +- 0.0133\n",
      "Yes WS \t No Aux \t ===> 0.8495 +- 0.0106\n",
      "No WS \t Yes Aux \t ===> 0.8934 +- 0.0165\n",
      "Yes WS \t Yes Aux \t ===> 0.9035 +- 0.0107\n"
     ]
    }
   ],
   "source": [
    "print(\"No WS \\t No Aux \\t ===> {}\".format( extract_accuracy_value(hist_deepFC_noWS_noAux_df) ))\n",
    "print(\"Yes WS \\t No Aux \\t ===> {}\".format( extract_accuracy_value(hist_deepFC_yesWS_noAux_df) ))\n",
    "print(\"No WS \\t Yes Aux \\t ===> {}\".format( extract_accuracy_value(hist_deepFC_noWS_yesAux_df) ))\n",
    "print(\"Yes WS \\t Yes Aux \\t ===> {}\".format( extract_accuracy_value(hist_deepFC_yesWS_yesAux_df) ))"
   ]
  },
  {
   "cell_type": "markdown",
   "metadata": {},
   "source": [
    "## ConvNet"
   ]
  },
  {
   "cell_type": "code",
   "execution_count": 76,
   "metadata": {},
   "outputs": [],
   "source": [
    "hist_conv_noWS_noAux_df = pd.read_csv('./histories/conv_noWS_noAux.csv', encoding='utf-8')\n",
    "hist_conv_yesWS_noAux_df = pd.read_csv('./histories/conv_yesWS_noAux.csv', encoding='utf-8')\n",
    "hist_conv_noWS_yesAux_df = pd.read_csv('./histories/conv_noWS_yesAux.csv', encoding='utf-8')\n",
    "hist_conv_yesWS_yesAux_df = pd.read_csv('./histories/conv_yesWS_yesAux.csv', encoding='utf-8')"
   ]
  },
  {
   "cell_type": "code",
   "execution_count": 77,
   "metadata": {},
   "outputs": [
    {
     "name": "stdout",
     "output_type": "stream",
     "text": [
      "No WS \t No Aux \t ===> 0.8486 +- 0.0152\n",
      "Yes WS \t No Aux \t ===> 0.8656 +- 0.0152\n",
      "No WS \t Yes Aux \t ===> 0.8888 +- 0.0111\n",
      "Yes WS \t Yes Aux \t ===> 0.9016 +- 0.0095\n"
     ]
    }
   ],
   "source": [
    "print(\"No WS \\t No Aux \\t ===> {}\".format( extract_accuracy_value(hist_conv_noWS_noAux_df) ))\n",
    "print(\"Yes WS \\t No Aux \\t ===> {}\".format( extract_accuracy_value(hist_conv_yesWS_noAux_df) ))\n",
    "print(\"No WS \\t Yes Aux \\t ===> {}\".format( extract_accuracy_value(hist_conv_noWS_yesAux_df) ))\n",
    "print(\"Yes WS \\t Yes Aux \\t ===> {}\".format( extract_accuracy_value(hist_conv_yesWS_yesAux_df) ))"
   ]
  }
 ],
 "metadata": {
  "kernelspec": {
   "display_name": "Python 3",
   "language": "python",
   "name": "python3"
  },
  "language_info": {
   "codemirror_mode": {
    "name": "ipython",
    "version": 3
   },
   "file_extension": ".py",
   "mimetype": "text/x-python",
   "name": "python",
   "nbconvert_exporter": "python",
   "pygments_lexer": "ipython3",
   "version": "3.6.5"
  }
 },
 "nbformat": 4,
 "nbformat_minor": 2
}
